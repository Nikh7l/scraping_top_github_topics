{
 "cells": [
  {
   "cell_type": "code",
   "execution_count": 1,
   "metadata": {},
   "outputs": [],
   "source": [
    "import requests"
   ]
  },
  {
   "cell_type": "code",
   "execution_count": 46,
   "metadata": {},
   "outputs": [],
   "source": [
    "topics_url = \"https://github.com/topics\""
   ]
  },
  {
   "cell_type": "code",
   "execution_count": 47,
   "metadata": {},
   "outputs": [],
   "source": [
    "response =  requests.get(topics_url)"
   ]
  },
  {
   "cell_type": "code",
   "execution_count": 48,
   "metadata": {},
   "outputs": [
    {
     "data": {
      "text/plain": [
       "200"
      ]
     },
     "execution_count": 48,
     "metadata": {},
     "output_type": "execute_result"
    }
   ],
   "source": [
    "response.status_code"
   ]
  },
  {
   "cell_type": "code",
   "execution_count": 49,
   "metadata": {},
   "outputs": [
    {
     "data": {
      "text/plain": [
       "164708"
      ]
     },
     "execution_count": 49,
     "metadata": {},
     "output_type": "execute_result"
    }
   ],
   "source": [
    "len(response.text)"
   ]
  },
  {
   "cell_type": "code",
   "execution_count": 50,
   "metadata": {},
   "outputs": [],
   "source": [
    "page_contents = response.text"
   ]
  },
  {
   "cell_type": "code",
   "execution_count": 51,
   "metadata": {},
   "outputs": [
    {
     "data": {
      "text/plain": [
       "'\\n\\n<!DOCTYPE html>\\n<html lang=\"en\" data-color-mode=\"auto\" data-light-theme=\"light\" data-dark-theme=\"dark\"  data-a11y-animated-images=\"system\" data-a11y-link-underlines=\"false\">\\n\\n\\n  <head>\\n    <meta charset=\"utf-8\">\\n  <link rel=\"dns-prefetch\" href=\"https://github.githubassets.com\">\\n  <link rel=\"dns-prefetch\" href=\"https://avatars.githubusercontent.com\">\\n  <link rel=\"dns-prefetch\" href=\"https://github-cloud.s3.amazonaws.com\">\\n  <link rel=\"dns-prefetch\" href=\"https://user-images.githubusercontent.com/\">\\n  <link rel=\"preconnect\" href=\"https://github.githubassets.com\" crossorigin>\\n  <link rel=\"preconnect\" href=\"https://avatars.githubusercontent.com\">\\n\\n  \\n\\n  <link crossorigin=\"anonymous\" media=\"all\" rel=\"stylesheet\" href=\"https://github.githubassets.com/assets/light-a09cef873428.css\" /><link crossorigin=\"anonymous\" media=\"all\" rel=\"stylesheet\" href=\"https://github.githubassets.com/assets/dark-5d486a4ede8e.css\" /><link data-color-theme=\"dark_dimmed\" crossorigin=\"anonymous\" media=\"all\" rel=\"sty'"
      ]
     },
     "execution_count": 51,
     "metadata": {},
     "output_type": "execute_result"
    }
   ],
   "source": [
    "page_contents[:1000]"
   ]
  },
  {
   "cell_type": "code",
   "execution_count": 52,
   "metadata": {},
   "outputs": [],
   "source": [
    "with open('webpage.html','w', encoding='utf-8') as f:\n",
    "    f.write(page_contents)"
   ]
  },
  {
   "cell_type": "markdown",
   "metadata": {},
   "source": [
    "# BeautifulSoup"
   ]
  },
  {
   "cell_type": "code",
   "execution_count": 53,
   "metadata": {},
   "outputs": [],
   "source": [
    "from bs4 import BeautifulSoup"
   ]
  },
  {
   "cell_type": "code",
   "execution_count": 54,
   "metadata": {},
   "outputs": [],
   "source": [
    "doc = BeautifulSoup(page_contents,'html.parser')"
   ]
  },
  {
   "cell_type": "code",
   "execution_count": 55,
   "metadata": {},
   "outputs": [],
   "source": [
    "topic_class = 'f3 lh-condensed mb-0 mt-1 Link--primary'\n",
    "desc_class = \"f5 color-fg-muted mb-0 mt-1\"\n",
    "topic_title_tags = doc.find_all('p',{'class':topic_class})\n",
    "topic_desc_tags = doc.find_all('p',{'class':desc_class})"
   ]
  },
  {
   "cell_type": "code",
   "execution_count": 56,
   "metadata": {},
   "outputs": [
    {
     "data": {
      "text/plain": [
       "(30, 30)"
      ]
     },
     "execution_count": 56,
     "metadata": {},
     "output_type": "execute_result"
    }
   ],
   "source": [
    "len(topic_title_tags),len(topic_desc_tags)"
   ]
  },
  {
   "cell_type": "code",
   "execution_count": 57,
   "metadata": {},
   "outputs": [
    {
     "data": {
      "text/plain": [
       "[<p class=\"f3 lh-condensed mb-0 mt-1 Link--primary\">3D</p>,\n",
       " <p class=\"f3 lh-condensed mb-0 mt-1 Link--primary\">Ajax</p>,\n",
       " <p class=\"f3 lh-condensed mb-0 mt-1 Link--primary\">Algorithm</p>,\n",
       " <p class=\"f3 lh-condensed mb-0 mt-1 Link--primary\">Amp</p>,\n",
       " <p class=\"f3 lh-condensed mb-0 mt-1 Link--primary\">Android</p>]"
      ]
     },
     "execution_count": 57,
     "metadata": {},
     "output_type": "execute_result"
    }
   ],
   "source": [
    "topic_title_tags[:5]"
   ]
  },
  {
   "cell_type": "code",
   "execution_count": 58,
   "metadata": {},
   "outputs": [
    {
     "data": {
      "text/plain": [
       "[<p class=\"f5 color-fg-muted mb-0 mt-1\">\n",
       "           3D refers to the use of three-dimensional graphics, modeling, and animation in various industries.\n",
       "         </p>,\n",
       " <p class=\"f5 color-fg-muted mb-0 mt-1\">\n",
       "           Ajax is a technique for creating interactive web applications.\n",
       "         </p>,\n",
       " <p class=\"f5 color-fg-muted mb-0 mt-1\">\n",
       "           Algorithms are self-contained sequences that carry out a variety of tasks.\n",
       "         </p>,\n",
       " <p class=\"f5 color-fg-muted mb-0 mt-1\">\n",
       "           Amp is a non-blocking concurrency library for PHP.\n",
       "         </p>,\n",
       " <p class=\"f5 color-fg-muted mb-0 mt-1\">\n",
       "           Android is an operating system built by Google designed for mobile devices.\n",
       "         </p>]"
      ]
     },
     "execution_count": 58,
     "metadata": {},
     "output_type": "execute_result"
    }
   ],
   "source": [
    "topic_desc_tags[:5]"
   ]
  },
  {
   "cell_type": "code",
   "execution_count": 59,
   "metadata": {},
   "outputs": [],
   "source": [
    "url_class = \"no-underline flex-grow-0\"\n",
    "url_tags = doc.find_all('a',{'class':url_class})"
   ]
  },
  {
   "cell_type": "code",
   "execution_count": 60,
   "metadata": {},
   "outputs": [
    {
     "data": {
      "text/plain": [
       "30"
      ]
     },
     "execution_count": 60,
     "metadata": {},
     "output_type": "execute_result"
    }
   ],
   "source": [
    "len(url_tags)"
   ]
  },
  {
   "cell_type": "code",
   "execution_count": 61,
   "metadata": {},
   "outputs": [
    {
     "data": {
      "text/plain": [
       "'/topics/3d'"
      ]
     },
     "execution_count": 61,
     "metadata": {},
     "output_type": "execute_result"
    }
   ],
   "source": [
    "url_tags[0]['href']"
   ]
  },
  {
   "cell_type": "code",
   "execution_count": 62,
   "metadata": {},
   "outputs": [],
   "source": [
    "topic_titles = []\n",
    "\n",
    "for tag in topic_title_tags:\n",
    "    topic_titles.append(tag.text)"
   ]
  },
  {
   "cell_type": "code",
   "execution_count": 63,
   "metadata": {},
   "outputs": [],
   "source": [
    "topic_desc = []\n",
    "\n",
    "for tag in topic_desc_tags:\n",
    "    topic_desc.append(tag.text.strip())"
   ]
  },
  {
   "cell_type": "code",
   "execution_count": 64,
   "metadata": {},
   "outputs": [],
   "source": [
    "topic_url = []\n",
    "for tag in url_tags:\n",
    "    topic_url.append(\"https://github.com\" + tag['href'])"
   ]
  },
  {
   "cell_type": "code",
   "execution_count": 65,
   "metadata": {},
   "outputs": [
    {
     "data": {
      "text/plain": [
       "['https://github.com/topics/3d',\n",
       " 'https://github.com/topics/ajax',\n",
       " 'https://github.com/topics/algorithm',\n",
       " 'https://github.com/topics/amphp',\n",
       " 'https://github.com/topics/android',\n",
       " 'https://github.com/topics/angular',\n",
       " 'https://github.com/topics/ansible',\n",
       " 'https://github.com/topics/api',\n",
       " 'https://github.com/topics/arduino',\n",
       " 'https://github.com/topics/aspnet',\n",
       " 'https://github.com/topics/atom',\n",
       " 'https://github.com/topics/awesome',\n",
       " 'https://github.com/topics/aws',\n",
       " 'https://github.com/topics/azure',\n",
       " 'https://github.com/topics/babel',\n",
       " 'https://github.com/topics/bash',\n",
       " 'https://github.com/topics/bitcoin',\n",
       " 'https://github.com/topics/bootstrap',\n",
       " 'https://github.com/topics/bot',\n",
       " 'https://github.com/topics/c',\n",
       " 'https://github.com/topics/chrome',\n",
       " 'https://github.com/topics/chrome-extension',\n",
       " 'https://github.com/topics/cli',\n",
       " 'https://github.com/topics/clojure',\n",
       " 'https://github.com/topics/code-quality',\n",
       " 'https://github.com/topics/code-review',\n",
       " 'https://github.com/topics/compiler',\n",
       " 'https://github.com/topics/continuous-integration',\n",
       " 'https://github.com/topics/covid-19',\n",
       " 'https://github.com/topics/cpp']"
      ]
     },
     "execution_count": 65,
     "metadata": {},
     "output_type": "execute_result"
    }
   ],
   "source": [
    "topic_url"
   ]
  },
  {
   "cell_type": "code",
   "execution_count": 37,
   "metadata": {},
   "outputs": [],
   "source": [
    "import pandas as pd"
   ]
  },
  {
   "cell_type": "code",
   "execution_count": null,
   "metadata": {},
   "outputs": [],
   "source": [
    "topics_df = pd.DataFrame(list(zip(topic_titles,topic_desc,topic_url)),columns=['Topic_Name','Topic_Description','Topic_url'])"
   ]
  },
  {
   "cell_type": "code",
   "execution_count": null,
   "metadata": {},
   "outputs": [],
   "source": [
    "topics_df"
   ]
  },
  {
   "cell_type": "markdown",
   "metadata": {},
   "source": [
    "# To CSV"
   ]
  },
  {
   "cell_type": "code",
   "execution_count": null,
   "metadata": {},
   "outputs": [],
   "source": [
    "topics_df.to_csv('topics.csv',index = None)"
   ]
  },
  {
   "cell_type": "markdown",
   "metadata": {},
   "source": [
    "# Get information about topics"
   ]
  },
  {
   "cell_type": "code",
   "execution_count": null,
   "metadata": {},
   "outputs": [],
   "source": [
    "topic_url[0] "
   ]
  },
  {
   "cell_type": "code",
   "execution_count": 6,
   "metadata": {},
   "outputs": [],
   "source": [
    "url = \"https://github.com/topics/3d\"\n",
    "response = requests.get(url)"
   ]
  },
  {
   "cell_type": "code",
   "execution_count": 7,
   "metadata": {},
   "outputs": [
    {
     "data": {
      "text/plain": [
       "475791"
      ]
     },
     "execution_count": 7,
     "metadata": {},
     "output_type": "execute_result"
    }
   ],
   "source": [
    "len(response.text)"
   ]
  },
  {
   "cell_type": "code",
   "execution_count": 8,
   "metadata": {},
   "outputs": [],
   "source": [
    "topic_page_content = response.text"
   ]
  },
  {
   "cell_type": "code",
   "execution_count": 9,
   "metadata": {},
   "outputs": [],
   "source": [
    "topic_doc = BeautifulSoup(topic_page_content,'html.parser')"
   ]
  },
  {
   "cell_type": "code",
   "execution_count": 11,
   "metadata": {},
   "outputs": [],
   "source": [
    "username_class = \"f3 color-fg-muted text-normal lh-condensed\"\n",
    "username_tags = topic_doc.find_all('h3',{'class':username_class})\n",
    "star_id = \"repo-stars-counter-star\"\n",
    "star_tags = topic_doc.find_all('span',{'id':star_id})\n"
   ]
  },
  {
   "cell_type": "code",
   "execution_count": 12,
   "metadata": {},
   "outputs": [
    {
     "data": {
      "text/plain": [
       "20"
      ]
     },
     "execution_count": 12,
     "metadata": {},
     "output_type": "execute_result"
    }
   ],
   "source": [
    "len(username_tags)"
   ]
  },
  {
   "cell_type": "code",
   "execution_count": 29,
   "metadata": {},
   "outputs": [
    {
     "data": {
      "text/plain": [
       "<h3 class=\"f3 color-fg-muted text-normal lh-condensed\">\n",
       "<a class=\"Link\" data-hydro-click='{\"event_type\":\"explore.click\",\"payload\":{\"click_context\":\"REPOSITORY_CARD\",\"click_target\":\"OWNER\",\"click_visual_representation\":\"REPOSITORY_OWNER_HEADING\",\"actor_id\":null,\"record_id\":97088,\"originating_url\":\"https://github.com/topics/3d\",\"user_id\":null}}' data-hydro-click-hmac=\"4bdbc49d3c05ae7f70b531fbce709a384200b0768554e0172950286a8db30940\" data-turbo=\"false\" data-view-component=\"true\" href=\"/mrdoob\">\n",
       "            mrdoob\n",
       "</a>          /\n",
       "          <a class=\"Link text-bold wb-break-word\" data-hydro-click='{\"event_type\":\"explore.click\",\"payload\":{\"click_context\":\"REPOSITORY_CARD\",\"click_target\":\"REPOSITORY\",\"click_visual_representation\":\"REPOSITORY_NAME_HEADING\",\"actor_id\":null,\"record_id\":576201,\"originating_url\":\"https://github.com/topics/3d\",\"user_id\":null}}' data-hydro-click-hmac=\"517d3d5cb9d89752156923904a4238816bc9b51ab7772f3e3644ce897d8dd4e5\" data-turbo=\"false\" data-view-component=\"true\" href=\"/mrdoob/three.js\">\n",
       "            three.js\n",
       "</a> </h3>"
      ]
     },
     "execution_count": 29,
     "metadata": {},
     "output_type": "execute_result"
    }
   ],
   "source": [
    "a = username_tags[0]\n",
    "a"
   ]
  },
  {
   "cell_type": "code",
   "execution_count": 30,
   "metadata": {},
   "outputs": [],
   "source": [
    "a_tags = username_tags[0].find_all('a')"
   ]
  },
  {
   "cell_type": "markdown",
   "metadata": {},
   "source": [
    "a.find_all('a')"
   ]
  },
  {
   "cell_type": "code",
   "execution_count": 27,
   "metadata": {},
   "outputs": [
    {
     "data": {
      "text/plain": [
       "'pmndrs'"
      ]
     },
     "execution_count": 27,
     "metadata": {},
     "output_type": "execute_result"
    }
   ],
   "source": [
    "a_tags[0].text.strip()"
   ]
  },
  {
   "cell_type": "code",
   "execution_count": null,
   "metadata": {},
   "outputs": [],
   "source": [
    "a_tags[1].text.strip()"
   ]
  },
  {
   "cell_type": "code",
   "execution_count": null,
   "metadata": {},
   "outputs": [],
   "source": [
    "base_url = \"https://github.com\"\n",
    "repo_url = base_url + a_tags[1]['href']"
   ]
  },
  {
   "cell_type": "code",
   "execution_count": null,
   "metadata": {},
   "outputs": [],
   "source": [
    "repo_url"
   ]
  },
  {
   "cell_type": "code",
   "execution_count": null,
   "metadata": {},
   "outputs": [],
   "source": [
    "star_id = \"repo-stars-counter-star\"\n",
    "star_tags = topic_doc.find_all('span',{'id':star_id})"
   ]
  },
  {
   "cell_type": "code",
   "execution_count": null,
   "metadata": {},
   "outputs": [],
   "source": [
    "len(star_tags)"
   ]
  },
  {
   "cell_type": "code",
   "execution_count": null,
   "metadata": {},
   "outputs": [],
   "source": [
    "star_tags[0].text"
   ]
  },
  {
   "cell_type": "code",
   "execution_count": null,
   "metadata": {},
   "outputs": [],
   "source": [
    "repo_url"
   ]
  },
  {
   "cell_type": "markdown",
   "metadata": {},
   "source": [
    "# Create Functions "
   ]
  },
  {
   "cell_type": "code",
   "execution_count": 44,
   "metadata": {},
   "outputs": [],
   "source": [
    "def get_topic_page(topicUrl):\n",
    "    response = requests.get(topicUrl)\n",
    "    if response.status_code != 200:\n",
    "        raise Exception('Failed to Load page {}'.format(topicUrl))\n",
    "    topic_page_content = response.text\n",
    "    topic_doc = BeautifulSoup(topic_page_content,'html.parser')\n",
    "    username_class = \"f3 color-fg-muted text-normal lh-condensed\"\n",
    "    username_tags = topic_doc.find_all('h3',{'class':username_class})\n",
    "    star_id = \"repo-stars-counter-star\"\n",
    "    star_tags = topic_doc.find_all('span',{'id':star_id})\n",
    "    topics_repos_dict = {\n",
    "    'username' : [],\n",
    "    'repo_name' : [],\n",
    "    'stars': [],\n",
    "    'repo_url' :[]\n",
    "\n",
    "    }\n",
    "\n",
    "    for i in range(len(username_tags)):\n",
    "        repo_info = get_repo_info(username_tags[i],star_tags[i])\n",
    "        topics_repos_dict['username'].append(repo_info[0])\n",
    "        topics_repos_dict['repo_name'].append(repo_info[1])\n",
    "        topics_repos_dict['stars'].append(repo_info[2])\n",
    "        topics_repos_dict['repo_url'].append(repo_info[3])\n",
    "    \n",
    "    return pd.DataFrame(topics_repos_dict)\n",
    " \n",
    "def get_star_count(stars_string):\n",
    "    if stars_string[-1] == \"k\":\n",
    "        stars = int(float(stars_string[:-1]) * 1000)\n",
    "        return stars\n",
    "\n",
    "\n",
    "def get_repo_info(username_tags,star_tags):\n",
    "    a_tags = username_tags.find_all('a')\n",
    "    username = a_tags[0].text.strip()\n",
    "    reponame = a_tags[1].text.strip()\n",
    "    base_url = \"https://github.com\"\n",
    "    repo_url = base_url + a_tags[1]['href']\n",
    "    stars = get_star_count(star_tags.text)\n",
    "    return username,reponame,stars,repo_url"
   ]
  },
  {
   "cell_type": "code",
   "execution_count": 71,
   "metadata": {},
   "outputs": [
    {
     "data": {
      "text/html": [
       "<div>\n",
       "<style scoped>\n",
       "    .dataframe tbody tr th:only-of-type {\n",
       "        vertical-align: middle;\n",
       "    }\n",
       "\n",
       "    .dataframe tbody tr th {\n",
       "        vertical-align: top;\n",
       "    }\n",
       "\n",
       "    .dataframe thead th {\n",
       "        text-align: right;\n",
       "    }\n",
       "</style>\n",
       "<table border=\"1\" class=\"dataframe\">\n",
       "  <thead>\n",
       "    <tr style=\"text-align: right;\">\n",
       "      <th></th>\n",
       "      <th>username</th>\n",
       "      <th>repo_name</th>\n",
       "      <th>stars</th>\n",
       "      <th>repo_url</th>\n",
       "    </tr>\n",
       "  </thead>\n",
       "  <tbody>\n",
       "    <tr>\n",
       "      <th>0</th>\n",
       "      <td>flutter</td>\n",
       "      <td>flutter</td>\n",
       "      <td>157000</td>\n",
       "      <td>https://github.com/flutter/flutter</td>\n",
       "    </tr>\n",
       "    <tr>\n",
       "      <th>1</th>\n",
       "      <td>facebook</td>\n",
       "      <td>react-native</td>\n",
       "      <td>112000</td>\n",
       "      <td>https://github.com/facebook/react-native</td>\n",
       "    </tr>\n",
       "    <tr>\n",
       "      <th>2</th>\n",
       "      <td>justjavac</td>\n",
       "      <td>free-programming-books-zh_CN</td>\n",
       "      <td>105000</td>\n",
       "      <td>https://github.com/justjavac/free-programming-...</td>\n",
       "    </tr>\n",
       "    <tr>\n",
       "      <th>3</th>\n",
       "      <td>Genymobile</td>\n",
       "      <td>scrcpy</td>\n",
       "      <td>91300</td>\n",
       "      <td>https://github.com/Genymobile/scrcpy</td>\n",
       "    </tr>\n",
       "    <tr>\n",
       "      <th>4</th>\n",
       "      <td>Hack-with-Github</td>\n",
       "      <td>Awesome-Hacking</td>\n",
       "      <td>69200</td>\n",
       "      <td>https://github.com/Hack-with-Github/Awesome-Ha...</td>\n",
       "    </tr>\n",
       "    <tr>\n",
       "      <th>5</th>\n",
       "      <td>google</td>\n",
       "      <td>material-design-icons</td>\n",
       "      <td>48700</td>\n",
       "      <td>https://github.com/google/material-design-icons</td>\n",
       "    </tr>\n",
       "    <tr>\n",
       "      <th>6</th>\n",
       "      <td>Solido</td>\n",
       "      <td>awesome-flutter</td>\n",
       "      <td>48500</td>\n",
       "      <td>https://github.com/Solido/awesome-flutter</td>\n",
       "    </tr>\n",
       "    <tr>\n",
       "      <th>7</th>\n",
       "      <td>wasabeef</td>\n",
       "      <td>awesome-android-ui</td>\n",
       "      <td>47400</td>\n",
       "      <td>https://github.com/wasabeef/awesome-android-ui</td>\n",
       "    </tr>\n",
       "    <tr>\n",
       "      <th>8</th>\n",
       "      <td>square</td>\n",
       "      <td>okhttp</td>\n",
       "      <td>44500</td>\n",
       "      <td>https://github.com/square/okhttp</td>\n",
       "    </tr>\n",
       "    <tr>\n",
       "      <th>9</th>\n",
       "      <td>android</td>\n",
       "      <td>architecture-samples</td>\n",
       "      <td>43100</td>\n",
       "      <td>https://github.com/android/architecture-samples</td>\n",
       "    </tr>\n",
       "    <tr>\n",
       "      <th>10</th>\n",
       "      <td>square</td>\n",
       "      <td>retrofit</td>\n",
       "      <td>42000</td>\n",
       "      <td>https://github.com/square/retrofit</td>\n",
       "    </tr>\n",
       "    <tr>\n",
       "      <th>11</th>\n",
       "      <td>laurent22</td>\n",
       "      <td>joplin</td>\n",
       "      <td>38700</td>\n",
       "      <td>https://github.com/laurent22/joplin</td>\n",
       "    </tr>\n",
       "    <tr>\n",
       "      <th>12</th>\n",
       "      <td>dcloudio</td>\n",
       "      <td>uni-app</td>\n",
       "      <td>38600</td>\n",
       "      <td>https://github.com/dcloudio/uni-app</td>\n",
       "    </tr>\n",
       "    <tr>\n",
       "      <th>13</th>\n",
       "      <td>fastlane</td>\n",
       "      <td>fastlane</td>\n",
       "      <td>37500</td>\n",
       "      <td>https://github.com/fastlane/fastlane</td>\n",
       "    </tr>\n",
       "    <tr>\n",
       "      <th>14</th>\n",
       "      <td>PhilJay</td>\n",
       "      <td>MPAndroidChart</td>\n",
       "      <td>36800</td>\n",
       "      <td>https://github.com/PhilJay/MPAndroidChart</td>\n",
       "    </tr>\n",
       "    <tr>\n",
       "      <th>15</th>\n",
       "      <td>skylot</td>\n",
       "      <td>jadx</td>\n",
       "      <td>36300</td>\n",
       "      <td>https://github.com/skylot/jadx</td>\n",
       "    </tr>\n",
       "    <tr>\n",
       "      <th>16</th>\n",
       "      <td>airbnb</td>\n",
       "      <td>lottie-android</td>\n",
       "      <td>34200</td>\n",
       "      <td>https://github.com/airbnb/lottie-android</td>\n",
       "    </tr>\n",
       "    <tr>\n",
       "      <th>17</th>\n",
       "      <td>shadowsocks</td>\n",
       "      <td>shadowsocks-android</td>\n",
       "      <td>34000</td>\n",
       "      <td>https://github.com/shadowsocks/shadowsocks-and...</td>\n",
       "    </tr>\n",
       "    <tr>\n",
       "      <th>18</th>\n",
       "      <td>bumptech</td>\n",
       "      <td>glide</td>\n",
       "      <td>33900</td>\n",
       "      <td>https://github.com/bumptech/glide</td>\n",
       "    </tr>\n",
       "    <tr>\n",
       "      <th>19</th>\n",
       "      <td>appwrite</td>\n",
       "      <td>appwrite</td>\n",
       "      <td>33200</td>\n",
       "      <td>https://github.com/appwrite/appwrite</td>\n",
       "    </tr>\n",
       "  </tbody>\n",
       "</table>\n",
       "</div>"
      ],
      "text/plain": [
       "            username                     repo_name   stars  \\\n",
       "0            flutter                       flutter  157000   \n",
       "1           facebook                  react-native  112000   \n",
       "2          justjavac  free-programming-books-zh_CN  105000   \n",
       "3         Genymobile                        scrcpy   91300   \n",
       "4   Hack-with-Github               Awesome-Hacking   69200   \n",
       "5             google         material-design-icons   48700   \n",
       "6             Solido               awesome-flutter   48500   \n",
       "7           wasabeef            awesome-android-ui   47400   \n",
       "8             square                        okhttp   44500   \n",
       "9            android          architecture-samples   43100   \n",
       "10            square                      retrofit   42000   \n",
       "11         laurent22                        joplin   38700   \n",
       "12          dcloudio                       uni-app   38600   \n",
       "13          fastlane                      fastlane   37500   \n",
       "14           PhilJay                MPAndroidChart   36800   \n",
       "15            skylot                          jadx   36300   \n",
       "16            airbnb                lottie-android   34200   \n",
       "17       shadowsocks           shadowsocks-android   34000   \n",
       "18          bumptech                         glide   33900   \n",
       "19          appwrite                      appwrite   33200   \n",
       "\n",
       "                                             repo_url  \n",
       "0                  https://github.com/flutter/flutter  \n",
       "1            https://github.com/facebook/react-native  \n",
       "2   https://github.com/justjavac/free-programming-...  \n",
       "3                https://github.com/Genymobile/scrcpy  \n",
       "4   https://github.com/Hack-with-Github/Awesome-Ha...  \n",
       "5     https://github.com/google/material-design-icons  \n",
       "6           https://github.com/Solido/awesome-flutter  \n",
       "7      https://github.com/wasabeef/awesome-android-ui  \n",
       "8                    https://github.com/square/okhttp  \n",
       "9     https://github.com/android/architecture-samples  \n",
       "10                 https://github.com/square/retrofit  \n",
       "11                https://github.com/laurent22/joplin  \n",
       "12                https://github.com/dcloudio/uni-app  \n",
       "13               https://github.com/fastlane/fastlane  \n",
       "14          https://github.com/PhilJay/MPAndroidChart  \n",
       "15                     https://github.com/skylot/jadx  \n",
       "16           https://github.com/airbnb/lottie-android  \n",
       "17  https://github.com/shadowsocks/shadowsocks-and...  \n",
       "18                  https://github.com/bumptech/glide  \n",
       "19               https://github.com/appwrite/appwrite  "
      ]
     },
     "execution_count": 71,
     "metadata": {},
     "output_type": "execute_result"
    }
   ],
   "source": [
    "get_topic_page(topic_url[4])"
   ]
  },
  {
   "cell_type": "code",
   "execution_count": 69,
   "metadata": {},
   "outputs": [
    {
     "data": {
      "text/plain": [
       "'https://github.com/topics/3d'"
      ]
     },
     "execution_count": 69,
     "metadata": {},
     "output_type": "execute_result"
    }
   ],
   "source": [
    "topic_url[0]"
   ]
  },
  {
   "cell_type": "markdown",
   "metadata": {},
   "source": [
    "# Final code to bring everything together"
   ]
  },
  {
   "cell_type": "code",
   "execution_count": 4,
   "metadata": {},
   "outputs": [],
   "source": [
    "import requests\n",
    "from bs4 import BeautifulSoup\n",
    "import pandas as pd\n",
    "import os"
   ]
  },
  {
   "cell_type": "code",
   "execution_count": 11,
   "metadata": {},
   "outputs": [],
   "source": [
    "def get_topic_titles(doc):\n",
    "    topic_class = 'f3 lh-condensed mb-0 mt-1 Link--primary'\n",
    "    topic_title_tags = doc.find_all('p',{'class':topic_class})\n",
    "    topic_titles = []\n",
    "\n",
    "    for tag in topic_title_tags:\n",
    "        topic_titles.append(tag.text)\n",
    "    \n",
    "    return topic_titles\n",
    "\n",
    "def get_topic_desc(doc):\n",
    "    desc_class = \"f5 color-fg-muted mb-0 mt-1\"\n",
    "    topic_desc_tags = doc.find_all('p',{'class':desc_class})\n",
    "    topic_desc = []\n",
    "    for tag in topic_desc_tags:\n",
    "        topic_desc.append(tag.text.strip())\n",
    "    return topic_desc\n",
    "\n",
    "def get_topic_url(doc):\n",
    "    url_class = \"no-underline flex-grow-0\"\n",
    "    url_tags = doc.find_all('a',{'class':url_class})\n",
    "    topic_url = []\n",
    "    for tag in url_tags:\n",
    "        topic_url.append(\"https://github.com\" + tag['href'])\n",
    "    return topic_url\n",
    "\n",
    "def scrape_topics():\n",
    "    topics_url = 'https://github.com/topics'\n",
    "    response =  requests.get(topics_url)\n",
    "    if response.status_code != 200:\n",
    "        raise Exception('Failed to Load page {}'.format(topicUrl))\n",
    "    doc = BeautifulSoup(response.text,'html.parser')\n",
    "\n",
    "    topics_dict = {\n",
    "        'title':get_topic_titles(doc),\n",
    "        'description':get_topic_desc(doc),\n",
    "        'url':get_topic_url(doc)\n",
    "    }\n",
    "    return pd.DataFrame(topics_dict)\n",
    "    \n",
    "    \n",
    "def save_topics_repos(topic_url, path):\n",
    "    if os.path.exists(path):\n",
    "        print(\"The file {} already exists . Skipping file...\".format(path))\n",
    "        return\n",
    "    topic_df = get_topic_page(topic_url)\n",
    "    topic_df.to_csv(path,index = None)\n",
    "\n",
    "def scrape_topics_repos():\n",
    "    topics_df = scrape_topics()\n",
    "    print('Scraping List of topics')\n",
    "    os.makedirs(\"data\",exist_ok=True)\n",
    "    for index,rows in topics_df.iterrows():\n",
    "        print(\"Scraping top repositories for {}\".format(rows['title']))\n",
    "        save_topics_repos(rows['url'],\"data/{}.csv\".format(rows['title']))\n",
    "\n"
   ]
  },
  {
   "cell_type": "code",
   "execution_count": 12,
   "metadata": {},
   "outputs": [],
   "source": [
    "def get_topic_page(topicUrl):\n",
    "    response = requests.get(topicUrl)\n",
    "    if response.status_code != 200:\n",
    "        raise Exception('Failed to Load page {}'.format(topicUrl))\n",
    "    topic_page_content = response.text\n",
    "    topic_doc = BeautifulSoup(topic_page_content,'html.parser')\n",
    "    username_class = \"f3 color-fg-muted text-normal lh-condensed\"\n",
    "    username_tags = topic_doc.find_all('h3',{'class':username_class})\n",
    "    star_id = \"repo-stars-counter-star\"\n",
    "    star_tags = topic_doc.find_all('span',{'id':star_id})\n",
    "    topics_repos_dict = {\n",
    "    'username' : [],\n",
    "    'repo_name' : [],\n",
    "    'stars': [],\n",
    "    'repo_url' :[]\n",
    "\n",
    "    }\n",
    "\n",
    "    for i in range(len(username_tags)):\n",
    "        repo_info = get_repo_info(username_tags[i],star_tags[i])\n",
    "        topics_repos_dict['username'].append(repo_info[0])\n",
    "        topics_repos_dict['repo_name'].append(repo_info[1])\n",
    "        topics_repos_dict['stars'].append(repo_info[2])\n",
    "        topics_repos_dict['repo_url'].append(repo_info[3])\n",
    "    \n",
    "    return pd.DataFrame(topics_repos_dict)\n",
    " \n",
    "def get_star_count(stars_string):\n",
    "    if stars_string[-1] == \"k\":\n",
    "        stars = int(float(stars_string[:-1]) * 1000)\n",
    "        return stars\n",
    "\n",
    "\n",
    "def get_repo_info(username_tags,star_tags):\n",
    "    a_tags = username_tags.find_all('a')\n",
    "    username = a_tags[0].text.strip()\n",
    "    reponame = a_tags[1].text.strip()\n",
    "    base_url = \"https://github.com\"\n",
    "    repo_url = base_url + a_tags[1]['href']\n",
    "    stars = get_star_count(star_tags.text)\n",
    "    return username,reponame,stars,repo_url"
   ]
  },
  {
   "cell_type": "code",
   "execution_count": 13,
   "metadata": {},
   "outputs": [
    {
     "name": "stdout",
     "output_type": "stream",
     "text": [
      "Scraping List of topics\n",
      "Scraping top repositories for 3D\n",
      "Scraping top repositories for Ajax\n",
      "Scraping top repositories for Algorithm\n",
      "Scraping top repositories for Amp\n",
      "Scraping top repositories for Android\n",
      "Scraping top repositories for Angular\n",
      "Scraping top repositories for Ansible\n",
      "Scraping top repositories for API\n",
      "Scraping top repositories for Arduino\n",
      "Scraping top repositories for ASP.NET\n",
      "Scraping top repositories for Atom\n",
      "Scraping top repositories for Awesome Lists\n",
      "Scraping top repositories for Amazon Web Services\n",
      "Scraping top repositories for Azure\n",
      "Scraping top repositories for Babel\n",
      "Scraping top repositories for Bash\n",
      "Scraping top repositories for Bitcoin\n",
      "Scraping top repositories for Bootstrap\n",
      "Scraping top repositories for Bot\n",
      "Scraping top repositories for C\n",
      "Scraping top repositories for Chrome\n",
      "Scraping top repositories for Chrome extension\n",
      "Scraping top repositories for Command line interface\n",
      "Scraping top repositories for Clojure\n",
      "Scraping top repositories for Code quality\n",
      "Scraping top repositories for Code review\n",
      "Scraping top repositories for Compiler\n",
      "Scraping top repositories for Continuous integration\n",
      "Scraping top repositories for COVID-19\n",
      "Scraping top repositories for C++\n"
     ]
    }
   ],
   "source": [
    "scrape_topics_repos()"
   ]
  },
  {
   "cell_type": "code",
   "execution_count": null,
   "metadata": {},
   "outputs": [],
   "source": []
  }
 ],
 "metadata": {
  "kernelspec": {
   "display_name": "Python 3",
   "language": "python",
   "name": "python3"
  },
  "language_info": {
   "codemirror_mode": {
    "name": "ipython",
    "version": 3
   },
   "file_extension": ".py",
   "mimetype": "text/x-python",
   "name": "python",
   "nbconvert_exporter": "python",
   "pygments_lexer": "ipython3",
   "version": "3.10.7"
  },
  "orig_nbformat": 4
 },
 "nbformat": 4,
 "nbformat_minor": 2
}
